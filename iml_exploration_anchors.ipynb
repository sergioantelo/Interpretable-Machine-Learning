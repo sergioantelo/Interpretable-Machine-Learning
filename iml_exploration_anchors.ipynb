{
 "cells": [
  {
   "cell_type": "code",
   "execution_count": 22,
   "metadata": {},
   "outputs": [
    {
     "name": "stderr",
     "output_type": "stream",
     "text": [
      "pandas.util.testing is deprecated. Use the functions in the public API at pandas.testing instead.\n"
     ]
    }
   ],
   "source": [
    "import pandas as pd\n",
    "import matplotlib.pyplot as plt\n",
    "import seaborn as sns\n",
    "import numpy as np\n",
    "import pickle as pkl\n",
    "from sklearn.model_selection import train_test_split\n",
    "\n",
    "import sklearn\n",
    "from sklearn import preprocessing\n",
    "from sklearn.metrics import (precision_score,f1_score,recall_score,accuracy_score,make_scorer)\n",
    " \n",
    "from alibi.explainers import AnchorTabular"
   ]
  },
  {
   "cell_type": "markdown",
   "metadata": {},
   "source": [
    "#### Anchors"
   ]
  },
  {
   "cell_type": "markdown",
   "metadata": {},
   "source": [
    "Function to get TP/TN/FP/FN"
   ]
  },
  {
   "cell_type": "code",
   "execution_count": 28,
   "metadata": {},
   "outputs": [],
   "source": [
    "#Function to retrieve potentially interesting instances. It retrieves from the specified cells, n instances\n",
    "#with the highest/lowest pred proba (head/tail)\n",
    "def get_instances(model,X,y,categ,conf,n):\n",
    "    y_pred = pd.DataFrame(model.predict(X), index=X.index, columns=['pred'])\n",
    "    y_pred_prob = pd.DataFrame(model.predict_proba(X), index=X.index, columns=['0_pred_prob','1_pred_prob'])\n",
    "\n",
    "    df_outcomes = pd.concat([X,y,y_pred,y_pred_prob],axis=1)\n",
    "    \n",
    "    if categ == \"TP\":\n",
    "        df_TP = df_outcomes.loc[(df_outcomes['is_canceled'] == 1) & \n",
    "                                (df_outcomes['pred'] == 1)].sort_values(by='1_pred_prob',ascending=False)\n",
    "        if conf == \"High\":\n",
    "            return df_TP.head(n)\n",
    "        else:\n",
    "            return df_TP.tail(n)\n",
    "    elif categ == \"FP\":\n",
    "        df_FP = df_outcomes.loc[(df_outcomes['is_canceled'] == 0) & \n",
    "                                (df_outcomes['pred'] == 1)].sort_values(by='1_pred_prob',ascending=False)\n",
    "        if conf == \"High\":\n",
    "            return df_FP.head(n)\n",
    "        else:\n",
    "            return df_FP.tail(n)\n",
    "    elif categ == \"TN\":\n",
    "        df_TN = df_outcomes.loc[(df_outcomes['is_canceled'] == 0) & \n",
    "                                (df_outcomes['pred'] == 0)].sort_values(by='1_pred_prob',ascending=False)\n",
    "        if conf == \"High\":\n",
    "            return df_TN.head(n)\n",
    "        else:\n",
    "            return df_TN.tail(n)\n",
    "    else:\n",
    "        df_FN = df_outcomes.loc[(df_outcomes['is_canceled'] == 1) & \n",
    "                                (df_outcomes['pred'] == 0)].sort_values(by='1_pred_prob',ascending=False)\n",
    "        if conf == \"High\":\n",
    "            return df_FN.head(n)\n",
    "        else:\n",
    "            return df_FN.tail(n)"
   ]
  },
  {
   "cell_type": "markdown",
   "metadata": {},
   "source": [
    "Dealing with categorical variables directly from original dataset"
   ]
  },
  {
   "cell_type": "code",
   "execution_count": 32,
   "metadata": {},
   "outputs": [],
   "source": [
    "df = pd.read_csv(\"datasets/dataset_nocatenc.csv\") \n",
    "\n",
    "df[\"hotel\"] = df[\"hotel\"].astype(dtype=\"category\")\n",
    "df[\"is_canceled\"] = df[\"is_canceled\"].astype(dtype=\"category\")\n",
    "df[\"meal\"] = df[\"meal\"].astype(dtype=\"category\")\n",
    "df[\"country\"] = df[\"country\"].astype(dtype=\"category\")\n",
    "df[\"market_segment\"] = df[\"market_segment\"].astype(dtype=\"category\")\n",
    "df[\"reserved_room_type\"] = df[\"reserved_room_type\"].astype(dtype=\"category\")\n",
    "df[\"assigned_room_type\"] = df[\"assigned_room_type\"].astype(dtype=\"category\")\n",
    "df[\"deposit_type\"] = df[\"deposit_type\"].astype(dtype=\"category\")\n",
    "df[\"customer_type\"] = df[\"customer_type\"].astype(dtype=\"category\")"
   ]
  },
  {
   "cell_type": "code",
   "execution_count": 33,
   "metadata": {},
   "outputs": [],
   "source": [
    "labels = df[[\"is_canceled\"]]\n",
    "features = df.drop([\"is_canceled\"],axis=1)"
   ]
  },
  {
   "cell_type": "code",
   "execution_count": 34,
   "metadata": {},
   "outputs": [],
   "source": [
    "categorical_features = [0,9,10,11,14,15,17,19]\n",
    "\n",
    "categorical_names = {}\n",
    "for feature in categorical_features:\n",
    "    le = sklearn.preprocessing.LabelEncoder()\n",
    "    le.fit(features.iloc[:, feature])\n",
    "    features.iloc[:, feature] = le.transform(features.iloc[:, feature])\n",
    "    categorical_names[feature] = le.classes_"
   ]
  },
  {
   "cell_type": "code",
   "execution_count": 35,
   "metadata": {},
   "outputs": [
    {
     "name": "stdout",
     "output_type": "stream",
     "text": [
      "(94980, 23) (23746, 23) (94980, 1) (23746, 1)\n"
     ]
    }
   ],
   "source": [
    "X_train_labEnc, X_test_labEnc, y_train_labEnc, y_test_labEnc = train_test_split(features, labels, test_size = 0.2, random_state = 0)\n",
    "print(X_train_labEnc.shape,X_test_labEnc.shape, y_train_labEnc.shape, y_test_labEnc.shape)"
   ]
  },
  {
   "cell_type": "code",
   "execution_count": 36,
   "metadata": {},
   "outputs": [
    {
     "name": "stdout",
     "output_type": "stream",
     "text": [
      "(94980, 89) (23746, 89)\n"
     ]
    }
   ],
   "source": [
    "df_norefcat = pd.read_csv(\"datasets/dataset_norefcats.csv\")\n",
    "df_norefcat = df_norefcat.drop([\"hotel_City Hotel\"],axis=1)\n",
    "\n",
    "labels_cde = df_norefcat.iloc[:,0]\n",
    "features_cde = df_norefcat.iloc[:,1:]\n",
    "\n",
    "X_train_cde, X_test_cde, y_train_cde, y_test_cde = train_test_split(features_cde, labels_cde, test_size = 0.2, random_state = 0)\n",
    "print(X_train_cde.shape,X_test_cde.shape)"
   ]
  },
  {
   "cell_type": "code",
   "execution_count": 37,
   "metadata": {},
   "outputs": [],
   "source": [
    "cat_indices_in_X_test_labEnc = [9,10,11,14,15,17,19]\n",
    "\n",
    "# list of length 23, for each feature in X_test_labEnc the column index of the corresponding feature in X_test_cde\n",
    "# in case of categorical features, the index of the first encoding column \n",
    "feature_starting_index_in_X_test_cde = [15,0,1,2,3,4,5,6,7,16,21,52,8,9,60,70,10,82,11,85,12,13,14]"
   ]
  },
  {
   "cell_type": "code",
   "execution_count": 38,
   "metadata": {},
   "outputs": [],
   "source": [
    "def predict_self(data):\n",
    "    #data is a n time p matrix, where p is the number of features of X_test_labEnc (==23)\n",
    "    data_cde = []\n",
    "    for vec in data:\n",
    "        \n",
    "        vec_cde = np.zeros(X_test_cde.shape[1]) # 89 columns\n",
    "        \n",
    "        for idx, v in enumerate(vec):\n",
    "            if not idx in cat_indices_in_X_test_labEnc:\n",
    "                #print(\"num \",idx,\" \",v)\n",
    "                # v is a value of a numeric feature\n",
    "                vec_cde[feature_starting_index_in_X_test_cde[idx]] = v\n",
    "                \n",
    "            else:\n",
    "                #print(\"cat \",idx,\" \",v)\n",
    "                # v is a label encoding of a categorical feature\n",
    "                vec_cde[feature_starting_index_in_X_test_cde[idx] + int(v)] = 1\n",
    "        \n",
    "        data_cde.append(vec_cde)\n",
    "    \n",
    "    data_cde = np.matrix(data_cde)\n",
    "    # NOT NECESSARY FOR PREDICTION, BUT FOR TESTING\n",
    "    data_cde = pd.DataFrame(data_cde)\n",
    "    data_cde.columns = X_test_cde.columns\n",
    "    \n",
    "    return(grad_boost_cde.predict_proba(data_cde))"
   ]
  },
  {
   "cell_type": "code",
   "execution_count": 78,
   "metadata": {},
   "outputs": [
    {
     "name": "stderr",
     "output_type": "stream",
     "text": [
      "Trying to unpickle estimator DummyClassifier from version 0.22.1 when using version 0.23.2. This might lead to breaking code or invalid results. Use at your own risk.\n",
      "Trying to unpickle estimator DecisionTreeRegressor from version 0.22.1 when using version 0.23.2. This might lead to breaking code or invalid results. Use at your own risk.\n",
      "Trying to unpickle estimator GradientBoostingClassifier from version 0.22.1 when using version 0.23.2. This might lead to breaking code or invalid results. Use at your own risk.\n"
     ]
    }
   ],
   "source": [
    "import lime\n",
    "import lime.lime_tabular\n",
    "\n",
    "grad_boost_cde = pkl.load(open('models/gb_lime.pkl', 'rb'))\n",
    "\n",
    "explainer = AnchorTabular(predict_self, \n",
    "                          feature_names = np.array(X_train_labEnc.columns),\n",
    "                          categorical_names=categorical_names)"
   ]
  },
  {
   "cell_type": "code",
   "execution_count": 79,
   "metadata": {},
   "outputs": [
    {
     "data": {
      "text/plain": [
       "AnchorTabular(meta={'name': 'AnchorTabular', 'type': ['blackbox'], 'explanations': ['local'], 'params': {'seed': None, 'disc_perc': (25, 50, 75)}})"
      ]
     },
     "execution_count": 79,
     "metadata": {},
     "output_type": "execute_result"
    }
   ],
   "source": [
    "explainer.fit(X_train_labEnc.to_numpy(), disc_perc=(25, 50, 75))"
   ]
  },
  {
   "cell_type": "code",
   "execution_count": 80,
   "metadata": {},
   "outputs": [
    {
     "name": "stdout",
     "output_type": "stream",
     "text": [
      "Prediction:  0\n"
     ]
    }
   ],
   "source": [
    "x = get_instances(grad_boost_cde,\n",
    "                  X_test_cde,\n",
    "                  y_test_cde, \n",
    "                  'TP',\n",
    "                  'High',\n",
    "                  1)\n",
    "\n",
    "instance = X_test_labEnc.loc[x.index[0],:]\n",
    "print('Prediction: ', class_names[explainer.predictor(instance.to_numpy().reshape(-1,1))[0]])"
   ]
  },
  {
   "cell_type": "code",
   "execution_count": 81,
   "metadata": {},
   "outputs": [
    {
     "name": "stdout",
     "output_type": "stream",
     "text": [
      "Anchor: previous_cancellations > 0.00 AND deposit_type = Non Refund\n",
      "Precision: 1.00\n",
      "Coverage: 0.05\n"
     ]
    }
   ],
   "source": [
    "explanation = explainer.explain(instance.to_numpy(), threshold=0.95)\n",
    "print('Anchor: %s' % (' AND '.join(explanation.anchor)))\n",
    "print('Precision: %.2f' % explanation.precision)\n",
    "print('Coverage: %.2f' % explanation.coverage)"
   ]
  },
  {
   "cell_type": "code",
   "execution_count": 60,
   "metadata": {},
   "outputs": [
    {
     "name": "stdout",
     "output_type": "stream",
     "text": [
      "Prediction:  0\n"
     ]
    }
   ],
   "source": [
    "x = get_instances(grad_boost_cde,\n",
    "                  X_test_cde,\n",
    "                  y_test_cde, \n",
    "                  'TN',\n",
    "                  'High',\n",
    "                  1)\n",
    "\n",
    "instance = X_test_labEnc.loc[x.index[0],:]\n",
    "print('Prediction: ', class_names[explainer.predictor(instance.to_numpy().reshape(-1,1))[0]])"
   ]
  },
  {
   "cell_type": "code",
   "execution_count": 61,
   "metadata": {},
   "outputs": [
    {
     "name": "stdout",
     "output_type": "stream",
     "text": [
      "Anchor: country = DEU AND total_of_special_requests > 1.00 AND reserved_room_type = D\n",
      "Precision: 0.98\n",
      "Coverage: 0.06\n"
     ]
    }
   ],
   "source": [
    "explanation = explainer.explain(instance.to_numpy(), threshold=0.95)\n",
    "print('Anchor: %s' % (' AND '.join(explanation.anchor)))\n",
    "print('Precision: %.2f' % explanation.precision)\n",
    "print('Coverage: %.2f' % explanation.coverage)"
   ]
  },
  {
   "cell_type": "code",
   "execution_count": 62,
   "metadata": {},
   "outputs": [
    {
     "name": "stdout",
     "output_type": "stream",
     "text": [
      "Prediction:  0\n"
     ]
    }
   ],
   "source": [
    "x = get_instances(grad_boost_cde,\n",
    "                  X_test_cde,\n",
    "                  y_test_cde, \n",
    "                  'FP',\n",
    "                  'High',\n",
    "                  1)\n",
    "\n",
    "instance = X_test_labEnc.loc[x.index[0],:]\n",
    "print('Prediction: ', class_names[explainer.predictor(instance.to_numpy().reshape(-1,1))[0]])"
   ]
  },
  {
   "cell_type": "code",
   "execution_count": 63,
   "metadata": {},
   "outputs": [
    {
     "name": "stderr",
     "output_type": "stream",
     "text": [
      "Could not find an result satisfying the 0.95 precision constraint. Now returning the best non-eligible result.\n"
     ]
    },
    {
     "name": "stdout",
     "output_type": "stream",
     "text": [
      "Anchor: lead_time > 18.00 AND customer_type = Transient AND booking_changes <= 0.00 AND required_car_parking_spaces <= 0.00 AND adr > 70.00 AND stays_in_week_nights > 3.00 AND adults <= 2.00 AND 0.00 < stays_in_weekend_nights <= 2.00 AND previous_bookings_not_canceled <= 0.00 AND children <= 0.00 AND babies <= 0.00 AND previous_cancellations <= 0.00 AND days_in_waiting_list <= 0.00 AND market_segment = Online TA AND hotel = Resort Hotel AND arrival_date_day_of_month > 23.00 AND arrival_date_week_number > 38.00\n",
      "Precision: 0.73\n",
      "Coverage: 0.33\n"
     ]
    }
   ],
   "source": [
    "explanation = explainer.explain(instance.to_numpy(), threshold=0.95)\n",
    "print('Anchor: %s' % (' AND '.join(explanation.anchor)))\n",
    "print('Precision: %.2f' % explanation.precision)\n",
    "print('Coverage: %.2f' % explanation.coverage)"
   ]
  },
  {
   "cell_type": "code",
   "execution_count": 64,
   "metadata": {},
   "outputs": [
    {
     "name": "stdout",
     "output_type": "stream",
     "text": [
      "Prediction:  0\n"
     ]
    }
   ],
   "source": [
    "x = get_instances(grad_boost_cde,\n",
    "                  X_test_cde,\n",
    "                  y_test_cde, \n",
    "                  'FN',\n",
    "                  'High',\n",
    "                  1)\n",
    "\n",
    "instance = X_test_labEnc.loc[x.index[0],:]\n",
    "print('Prediction: ', class_names[explainer.predictor(instance.to_numpy().reshape(-1,1))[0]])"
   ]
  },
  {
   "cell_type": "code",
   "execution_count": 65,
   "metadata": {},
   "outputs": [
    {
     "name": "stdout",
     "output_type": "stream",
     "text": [
      "Anchor: country = GBR AND lead_time <= 69.00 AND hotel = Resort Hotel AND stays_in_week_nights <= 2.00 AND reserved_room_type = A\n",
      "Precision: 0.95\n",
      "Coverage: 0.33\n"
     ]
    }
   ],
   "source": [
    "explanation = explainer.explain(instance.to_numpy(), threshold=0.95)\n",
    "print('Anchor: %s' % (' AND '.join(explanation.anchor)))\n",
    "print('Precision: %.2f' % explanation.precision)\n",
    "print('Coverage: %.2f' % explanation.coverage)"
   ]
  },
  {
   "cell_type": "code",
   "execution_count": 66,
   "metadata": {},
   "outputs": [
    {
     "name": "stdout",
     "output_type": "stream",
     "text": [
      "Prediction:  0\n"
     ]
    }
   ],
   "source": [
    "x = get_instances(grad_boost_cde,\n",
    "                  X_test_cde,\n",
    "                  y_test_cde, \n",
    "                  'TP',\n",
    "                  'Low',\n",
    "                  1)\n",
    "\n",
    "instance = X_test_labEnc.loc[x.index[0],:]\n",
    "print('Prediction: ', class_names[explainer.predictor(instance.to_numpy().reshape(-1,1))[0]])"
   ]
  },
  {
   "cell_type": "code",
   "execution_count": 67,
   "metadata": {},
   "outputs": [
    {
     "name": "stdout",
     "output_type": "stream",
     "text": [
      "Anchor: country = PRT AND total_of_special_requests <= 0.00 AND assigned_room_type = A AND 1.00 < stays_in_week_nights <= 3.00 AND booking_changes <= 0.00 AND customer_type = Transient AND reserved_room_type = A AND hotel = City Hotel AND meal = BB AND stays_in_weekend_nights <= 1.00 AND required_car_parking_spaces <= 0.00 AND arrival_date_week_number <= 38.00 AND previous_bookings_not_canceled <= 0.00 AND babies <= 0.00 AND children <= 0.00 AND lead_time <= 161.00 AND adr > 95.00 AND market_segment = Aviation\n",
      "Precision: 0.97\n",
      "Coverage: 0.41\n"
     ]
    }
   ],
   "source": [
    "explanation = explainer.explain(instance.to_numpy(), threshold=0.95)\n",
    "print('Anchor: %s' % (' AND '.join(explanation.anchor)))\n",
    "print('Precision: %.2f' % explanation.precision)\n",
    "print('Coverage: %.2f' % explanation.coverage)"
   ]
  },
  {
   "cell_type": "code",
   "execution_count": 68,
   "metadata": {},
   "outputs": [
    {
     "name": "stdout",
     "output_type": "stream",
     "text": [
      "Prediction:  0\n"
     ]
    }
   ],
   "source": [
    "x = get_instances(grad_boost_cde,\n",
    "                  X_test_cde,\n",
    "                  y_test_cde, \n",
    "                  'TN',\n",
    "                  'Low',\n",
    "                  1)\n",
    "\n",
    "instance = X_test_labEnc.loc[x.index[0],:]\n",
    "print('Prediction: ', class_names[explainer.predictor(instance.to_numpy().reshape(-1,1))[0]])"
   ]
  },
  {
   "cell_type": "code",
   "execution_count": 69,
   "metadata": {},
   "outputs": [
    {
     "name": "stdout",
     "output_type": "stream",
     "text": [
      "Anchor: market_segment = Offline TA/TO AND booking_changes > 0.00 AND deposit_type = No Deposit AND country = ITA\n",
      "Precision: 0.98\n",
      "Coverage: 0.20\n"
     ]
    }
   ],
   "source": [
    "explanation = explainer.explain(instance.to_numpy(), threshold=0.95)\n",
    "print('Anchor: %s' % (' AND '.join(explanation.anchor)))\n",
    "print('Precision: %.2f' % explanation.precision)\n",
    "print('Coverage: %.2f' % explanation.coverage)"
   ]
  },
  {
   "cell_type": "code",
   "execution_count": 70,
   "metadata": {},
   "outputs": [
    {
     "name": "stdout",
     "output_type": "stream",
     "text": [
      "Prediction:  0\n"
     ]
    }
   ],
   "source": [
    "x = get_instances(grad_boost_cde,\n",
    "                  X_test_cde,\n",
    "                  y_test_cde, \n",
    "                  'FP',\n",
    "                  'Low',\n",
    "                  1)\n",
    "\n",
    "instance = X_test_labEnc.loc[x.index[0],:]\n",
    "print('Prediction: ', class_names[explainer.predictor(instance.to_numpy().reshape(-1,1))[0]])"
   ]
  },
  {
   "cell_type": "code",
   "execution_count": 71,
   "metadata": {},
   "outputs": [
    {
     "name": "stdout",
     "output_type": "stream",
     "text": [
      "Anchor: lead_time > 161.00 AND assigned_room_type = A AND customer_type = Transient AND required_car_parking_spaces <= 0.00 AND total_of_special_requests <= 1.00 AND stays_in_week_nights <= 3.00 AND reserved_room_type = A AND previous_bookings_not_canceled <= 0.00 AND 16.00 < arrival_date_day_of_month <= 23.00 AND adults <= 2.00 AND stays_in_weekend_nights <= 1.00 AND hotel = City Hotel AND adr > 126.00 AND market_segment = Online TA\n",
      "Precision: 0.98\n",
      "Coverage: 0.25\n"
     ]
    }
   ],
   "source": [
    "explanation = explainer.explain(instance.to_numpy(), threshold=0.95)\n",
    "print('Anchor: %s' % (' AND '.join(explanation.anchor)))\n",
    "print('Precision: %.2f' % explanation.precision)\n",
    "print('Coverage: %.2f' % explanation.coverage)"
   ]
  },
  {
   "cell_type": "code",
   "execution_count": 72,
   "metadata": {},
   "outputs": [
    {
     "name": "stdout",
     "output_type": "stream",
     "text": [
      "Prediction:  0\n"
     ]
    }
   ],
   "source": [
    "x = get_instances(grad_boost_cde,\n",
    "                  X_test_cde,\n",
    "                  y_test_cde, \n",
    "                  'FN',\n",
    "                  'Low',\n",
    "                  1)\n",
    "\n",
    "instance = X_test_labEnc.loc[x.index[0],:]\n",
    "print('Prediction: ', class_names[explainer.predictor(instance.to_numpy().reshape(-1,1))[0]])"
   ]
  },
  {
   "cell_type": "code",
   "execution_count": 73,
   "metadata": {},
   "outputs": [
    {
     "name": "stdout",
     "output_type": "stream",
     "text": [
      "Anchor: lead_time <= 18.00 AND total_of_special_requests > 0.00\n",
      "Precision: 0.96\n",
      "Coverage: 0.25\n"
     ]
    }
   ],
   "source": [
    "explanation = explainer.explain(instance.to_numpy(), threshold=0.95)\n",
    "print('Anchor: %s' % (' AND '.join(explanation.anchor)))\n",
    "print('Precision: %.2f' % explanation.precision)\n",
    "print('Coverage: %.2f' % explanation.coverage)"
   ]
  }
 ],
 "metadata": {
  "kernelspec": {
   "display_name": "Python 3",
   "language": "python",
   "name": "python3"
  },
  "language_info": {
   "codemirror_mode": {
    "name": "ipython",
    "version": 3
   },
   "file_extension": ".py",
   "mimetype": "text/x-python",
   "name": "python",
   "nbconvert_exporter": "python",
   "pygments_lexer": "ipython3",
   "version": "3.7.3"
  }
 },
 "nbformat": 4,
 "nbformat_minor": 2
}
